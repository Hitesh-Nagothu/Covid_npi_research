{
  "nbformat": 4,
  "nbformat_minor": 0,
  "metadata": {
    "colab": {
      "name": "county_analysis.ipynb",
      "provenance": [],
      "collapsed_sections": [],
      "mount_file_id": "12n1IwqpCktwrY4VHQ9tLmxGNgk_7DHaP",
      "authorship_tag": "ABX9TyNP667qp0uW8qjbbWN4Quts",
      "include_colab_link": true
    },
    "kernelspec": {
      "name": "python3",
      "display_name": "Python 3"
    }
  },
  "cells": [
    {
      "cell_type": "markdown",
      "metadata": {
        "id": "view-in-github",
        "colab_type": "text"
      },
      "source": [
        "<a href=\"https://colab.research.google.com/github/Hitesh-Nagothu/Covid_npi_research/blob/master/SIR_County_Simulation_Data_Preprocessing.ipynb\" target=\"_parent\"><img src=\"https://colab.research.google.com/assets/colab-badge.svg\" alt=\"Open In Colab\"/></a>"
      ]
    },
    {
      "cell_type": "code",
      "metadata": {
        "id": "uRPTIfsrV3Rn"
      },
      "source": [
        "import pandas as pd\r\n",
        "import os\r\n",
        "import datetime\r\n",
        "import numpy as np"
      ],
      "execution_count": 33,
      "outputs": []
    },
    {
      "cell_type": "code",
      "metadata": {
        "id": "tfa5WttOWLw4"
      },
      "source": [
        "population_path='/content/drive/MyDrive/NPI/county/population.csv'\r\n",
        "cases_path='/content/drive/MyDrive/NPI/county/us-counties.csv'\r\n",
        "mobility_path= '/content/drive/MyDrive/NPI/county/mobility.csv'"
      ],
      "execution_count": 34,
      "outputs": []
    },
    {
      "cell_type": "code",
      "metadata": {
        "id": "1Q_DBqH_WNrd"
      },
      "source": [
        "population=pd.read_csv(population_path, dtype=str)\r\n",
        "cases=pd.read_csv(cases_path, dtype=str)\r\n",
        "mobility=pd.read_csv(mobility_path, dtype=str)"
      ],
      "execution_count": 35,
      "outputs": []
    },
    {
      "cell_type": "code",
      "metadata": {
        "id": "PoOLViRk6ov4"
      },
      "source": [
        ""
      ],
      "execution_count": 35,
      "outputs": []
    },
    {
      "cell_type": "code",
      "metadata": {
        "id": "jWCOpvgRW693"
      },
      "source": [
        "#processing population\r\n",
        "def fix_fips_county(code):\r\n",
        "  n=len(code)\r\n",
        "  if n==1:\r\n",
        "    code=\"00\"+code\r\n",
        "  elif n==2:\r\n",
        "    code=\"0\"+code\r\n",
        "  else:\r\n",
        "    pass\r\n",
        "  return code\r\n",
        "\r\n",
        "def fix_fips_state(code):\r\n",
        "  n=len(code)\r\n",
        "  if n==1:\r\n",
        "    code=\"0\"+code\r\n",
        "  elif n==2:\r\n",
        "    pass  \r\n",
        "  return code\r\n",
        "\r\n",
        "def zip(state,county):\r\n",
        "  return state+county\r\n",
        "\r\n",
        "population['COUNTY FIPS']=population['COUNTY FIPS'].apply(lambda k: fix_fips_county(k))\r\n",
        "population['STATE FIPS']=population['STATE FIPS'].apply(lambda k: fix_fips_state(k))\r\n",
        "population['ZIP']=population.apply(lambda row: zip(row['STATE FIPS'], row['COUNTY FIPS']), axis=1)\r\n",
        "population=population.drop(columns=['Unnamed: 0', '2010 POPULATION', 'LAND AREA (Sqare Miles)', 'STATE FIPS', 'COUNTY FIPS', 'STATE/TERRITORY NAME','COUNTY NAME'], axis=1)\r\n"
      ],
      "execution_count": 36,
      "outputs": []
    },
    {
      "cell_type": "code",
      "metadata": {
        "id": "N_-5tOV_W-sH"
      },
      "source": [
        "#processing cases\r\n",
        "cases['date']=pd.to_datetime(cases['date'], format='%Y-%m-%d')\r\n",
        "#start_date=datetime.datetime.strptime('2020-10-31','%Y-%m-%d')\r\n",
        "#end_date=datetime.datetime.strptime('2020-12-01','%Y-%m-%d')\r\n",
        "start_date='2020-10-31'\r\n",
        "end_date='2020-12-01'\r\n",
        "\r\n",
        "cases=cases[(cases['date']>start_date) & (cases['date']<end_date)]\r\n",
        "\r\n",
        "def get_day(date):\r\n",
        "  date_str=date.strftime('%Y-%m-%d')\r\n",
        "  day=date_str.split('-')[2]\r\n",
        "  return day\r\n",
        "\r\n",
        "cases['day']=cases['date'].apply(lambda date: get_day(date))\r\n",
        "#cases=cases.drop(columns=['county','state','deaths'], axis=1)"
      ],
      "execution_count": 37,
      "outputs": []
    },
    {
      "cell_type": "code",
      "metadata": {
        "id": "Cw1SKEA_YMLn"
      },
      "source": [
        "#processing mobility\r\n",
        "def fix_fips(code):\r\n",
        "  if len(code)==4:\r\n",
        "    code=\"0\"+code\r\n",
        "  return int(code)\r\n",
        "\r\n",
        "mobility['date']=pd.to_datetime(mobility['date'], format='%Y-%m-%d')\r\n",
        "start_date=datetime.datetime.strptime('2020-10-31','%Y-%m-%d')\r\n",
        "end_date=datetime.datetime.strptime('2020-12-1','%Y-%m-%d')\r\n",
        "mobility=mobility[(mobility['date']>start_date) & (mobility['date']<end_date)]\r\n",
        "mobility['day']=mobility['date'].apply(lambda date: get_day(date))\r\n",
        "mobility=mobility.drop(columns=['lat_d','lat_o', 'lng_d', 'lng_o','visitor_flows'], axis=1)"
      ],
      "execution_count": 38,
      "outputs": []
    },
    {
      "cell_type": "code",
      "metadata": {
        "id": "j4Dts0NZYN_C"
      },
      "source": [
        "mobility['geoid_o']=mobility['geoid_o'].apply(lambda code: code.zfill(5))\r\n",
        "mobility['geoid_d']=mobility['geoid_d'].apply(lambda code: code.zfill(5))"
      ],
      "execution_count": 39,
      "outputs": []
    },
    {
      "cell_type": "code",
      "metadata": {
        "id": "X5X3fM-kkVmf"
      },
      "source": [
        "filter_mobilty=mobility.rename(columns={'geoid_o':'Origin', 'geoid_d':'Destination', 'day':'Day', 'pop_flows':'Mobility Index'})\r\n",
        "filter_mobilty=filter_mobilty.drop(['date'], axis=1)\r\n",
        "\r\n",
        "mobility_fips=list(filter_mobilty.Origin.unique())\r\n",
        "population_fips=list(filter_population.ZIP.unique())\r\n",
        "cases_fips=list(cases.fips.unique())\r\n",
        "\r\n",
        "final_fips_codes=[]\r\n",
        "for i in cases_fips:\r\n",
        "  if i in mobility_fips and i in population_fips:\r\n",
        "    final_fips_codes.append(i)\r\n",
        "\r\n",
        "filter_population=population[population.ZIP.isin(final_fips_codes)]\r\n",
        "filter_mobilty=filter_mobilty[filter_mobilty.Origin.isin(final_fips_codes)]"
      ],
      "execution_count": 40,
      "outputs": []
    },
    {
      "cell_type": "code",
      "metadata": {
        "colab": {
          "base_uri": "https://localhost:8080/"
        },
        "id": "qcFdXMZbJX_A",
        "outputId": "e45ee2b6-5147-4898-ed5d-43e533495705"
      },
      "source": [
        ""
      ],
      "execution_count": 43,
      "outputs": [
        {
          "output_type": "execute_result",
          "data": {
            "text/plain": [
              "3210"
            ]
          },
          "metadata": {
            "tags": []
          },
          "execution_count": 43
        }
      ]
    },
    {
      "cell_type": "code",
      "metadata": {
        "id": "72HnLZYr3O4E"
      },
      "source": [
        "final_df=pd.DataFrame()\r\n",
        "cases_matrix=[]\r\n",
        "for f in final_fips_codes:\r\n",
        "  df=cases[cases.fips==f]\r\n",
        "  df=df.sort_values('day')\r\n",
        "  df['cases']=df['cases'].astype(int)\r\n",
        "  final_df=final_df.append(df)\r\n",
        "  cases_matrix.append(list(df['cases']))\r\n",
        "\r\n",
        "case_values = np.zeros([len(cases_matrix),len(max(cases_matrix,key = lambda x: len(x)))])\r\n",
        "for i,j in enumerate(cases_matrix):\r\n",
        "    case_values[i][0:len(j)] = j\r\n",
        "\r\n",
        "case_values=case_values.T.tolist()"
      ],
      "execution_count": 44,
      "outputs": []
    },
    {
      "cell_type": "code",
      "metadata": {
        "id": "WVWd8nn-B7cL"
      },
      "source": [
        "final_cases=pd.DataFrame(case_values,columns=final_fips_codes)"
      ],
      "execution_count": 45,
      "outputs": []
    },
    {
      "cell_type": "code",
      "metadata": {
        "colab": {
          "base_uri": "https://localhost:8080/"
        },
        "id": "aKAHAi1mDt6c",
        "outputId": "1469021b-0f80-4f17-d1ee-f2c7573b028b"
      },
      "source": [
        "final_cases.shape"
      ],
      "execution_count": 49,
      "outputs": [
        {
          "output_type": "execute_result",
          "data": {
            "text/plain": [
              "(30, 3210)"
            ]
          },
          "metadata": {
            "tags": []
          },
          "execution_count": 49
        }
      ]
    },
    {
      "cell_type": "code",
      "metadata": {
        "colab": {
          "base_uri": "https://localhost:8080/",
          "height": 281
        },
        "id": "lzC2SidA3OnP",
        "outputId": "57ce529f-dd35-43f0-97a5-8617b8f96f89"
      },
      "source": [
        "import matplotlib.pyplot as plt\r\n",
        "\r\n",
        "plt.plot(final_cases['06085'], '.-')\r\n",
        "plt.title('06085 incidence counts over 1/11/20 - 30/11/20')\r\n",
        "plt.show()"
      ],
      "execution_count": 50,
      "outputs": [
        {
          "output_type": "display_data",
          "data": {
            "image/png": "[encoded data removed]",
            "text/plain": [
              "<Figure size 432x288 with 1 Axes>"
            ]
          },
          "metadata": {
            "tags": [],
            "needs_background": "light"
          }
        }
      ]
    },
    {
      "cell_type": "code",
      "metadata": {
        "id": "jERRyZPsLdBw"
      },
      "source": [
        "filter_population=filter_population.rename(columns={'ZIP':'fips', '2015 POPULATION':'Population'})"
      ],
      "execution_count": 59,
      "outputs": []
    },
    {
      "cell_type": "code",
      "metadata": {
        "id": "YcjrWDgb7ukR"
      },
      "source": [
        "with open('/content/drive/MyDrive/NPI/mobility_final.csv', 'w') as f:\r\n",
        "  f.write(filter_mobilty.to_csv())\r\n",
        "  f.close()\r\n",
        "\r\n",
        "with open('/content/drive/MyDrive/NPI/population_final.csv', 'w') as f:\r\n",
        "  f.write(filter_population.to_csv())\r\n",
        "  f.close()\r\n",
        "\r\n",
        "with open('/content/drive/MyDrive/NPI/cases_final.csv', 'w') as f:\r\n",
        "  f.write(final_cases.to_csv())\r\n",
        "  f.close()"
      ],
      "execution_count": 62,
      "outputs": []
    }
  ]
}