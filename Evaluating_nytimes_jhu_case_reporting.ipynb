{
 "cells": [
  {
   "cell_type": "code",
   "execution_count": 46,
   "metadata": {},
   "outputs": [],
   "source": [
    "import pandas as pd\n",
    "import glob\n",
    "import datetime"
   ]
  },
  {
   "cell_type": "code",
   "execution_count": 3,
   "metadata": {},
   "outputs": [],
   "source": [
    "jhu_data_path=r'C:\\Users\\hites\\Downloads\\COVID-19-master\\csse_covid_19_data\\csse_covid_19_daily_reports_us'"
   ]
  },
  {
   "cell_type": "code",
   "execution_count": 40,
   "metadata": {},
   "outputs": [],
   "source": [
    "ny_times_path=r'C:\\Users\\hites\\Downloads\\nytimes\\us-states.csv'"
   ]
  },
  {
   "cell_type": "code",
   "execution_count": 6,
   "metadata": {},
   "outputs": [],
   "source": [
    "jhu_files=glob.glob(jhu_data_path+\"/*.csv\")"
   ]
  },
  {
   "cell_type": "code",
   "execution_count": 101,
   "metadata": {},
   "outputs": [
    {
     "name": "stderr",
     "output_type": "stream",
     "text": [
      "C:\\Users\\hites\\Anaconda3\\lib\\site-packages\\ipykernel_launcher.py:9: FutureWarning: Sorting because non-concatenation axis is not aligned. A future version\n",
      "of pandas will change to not sort by default.\n",
      "\n",
      "To accept the future behavior, pass 'sort=False'.\n",
      "\n",
      "To retain the current behavior and silence the warning, pass 'sort=True'.\n",
      "\n",
      "  if __name__ == '__main__':\n"
     ]
    }
   ],
   "source": [
    "li=[]\n",
    "date=[]\n",
    "\n",
    "for filename in jhu_files:\n",
    "    df=pd.read_csv(filename, header=0)\n",
    "    date.append((filename.split('\\\\')[-1].split('.')[0]))\n",
    "    li.append(df)\n",
    "\n",
    "jhu_df=pd.concat(li, axis=0)"
   ]
  },
  {
   "cell_type": "code",
   "execution_count": 102,
   "metadata": {},
   "outputs": [],
   "source": [
    "date_final=[d for d in date for i in range(58)]\n",
    "jhu_df['date']=date_final"
   ]
  },
  {
   "cell_type": "code",
   "execution_count": 103,
   "metadata": {},
   "outputs": [],
   "source": [
    "jhu_df['date']=pd.to_datetime(jhu_df['date'])\n",
    "\n"
   ]
  },
  {
   "cell_type": "code",
   "execution_count": 104,
   "metadata": {},
   "outputs": [],
   "source": [
    "ny_times_df=pd.read_csv(ny_times_path)"
   ]
  },
  {
   "cell_type": "code",
   "execution_count": 105,
   "metadata": {},
   "outputs": [],
   "source": [
    "ny_times_df['date']=pd.to_datetime(ny_times_df['date'])"
   ]
  },
  {
   "cell_type": "code",
   "execution_count": 106,
   "metadata": {},
   "outputs": [],
   "source": [
    "start_date=datetime.datetime.strptime('2020-04-30', '%Y-%m-%d')\n",
    "end_date=datetime.datetime.strptime('2021-01-01', '%Y-%m-%d')\n",
    "ny_times_df=ny_times_df[ny_times_df.date>start_date]  #Data from 1st May, 2020\n",
    "ny_times_df=ny_times_df[ny_times_df.date<end_date]"
   ]
  },
  {
   "cell_type": "code",
   "execution_count": 107,
   "metadata": {},
   "outputs": [],
   "source": [
    "jhu_df=jhu_df[jhu_df.date>start_date] #Data from 1st May, 2020\n",
    "jhu_df=jhu_df[jhu_df.date<end_date]"
   ]
  },
  {
   "cell_type": "code",
   "execution_count": 109,
   "metadata": {},
   "outputs": [],
   "source": [
    "jhu_df=jhu_df[jhu_df.ISO3=='USA']"
   ]
  },
  {
   "cell_type": "code",
   "execution_count": 110,
   "metadata": {},
   "outputs": [],
   "source": [
    "jhu_states=list(jhu_df.Province_State)\n",
    "ny_times_states=list(ny_times_df.state)"
   ]
  },
  {
   "cell_type": "code",
   "execution_count": 117,
   "metadata": {},
   "outputs": [],
   "source": [
    "matched_states=list(set([state for state in ny_times_states if state in jhu_states]))"
   ]
  },
  {
   "cell_type": "code",
   "execution_count": 124,
   "metadata": {},
   "outputs": [],
   "source": [
    "final_jhu=jhu_df[jhu_df['Province_State'].isin(matched_states)]\n",
    "final_nytimes=ny_times_df[ny_times_df['state'].isin(matched_states)]"
   ]
  },
  {
   "cell_type": "code",
   "execution_count": 127,
   "metadata": {},
   "outputs": [
    {
     "data": {
      "text/html": [
       "<div>\n",
       "<style scoped>\n",
       "    .dataframe tbody tr th:only-of-type {\n",
       "        vertical-align: middle;\n",
       "    }\n",
       "\n",
       "    .dataframe tbody tr th {\n",
       "        vertical-align: top;\n",
       "    }\n",
       "\n",
       "    .dataframe thead th {\n",
       "        text-align: right;\n",
       "    }\n",
       "</style>\n",
       "<table border=\"1\" class=\"dataframe\">\n",
       "  <thead>\n",
       "    <tr style=\"text-align: right;\">\n",
       "      <th></th>\n",
       "      <th>Active</th>\n",
       "      <th>Case_Fatality_Ratio</th>\n",
       "      <th>Confirmed</th>\n",
       "      <th>Country_Region</th>\n",
       "      <th>Deaths</th>\n",
       "      <th>FIPS</th>\n",
       "      <th>Hospitalization_Rate</th>\n",
       "      <th>ISO3</th>\n",
       "      <th>Incident_Rate</th>\n",
       "      <th>Last_Update</th>\n",
       "      <th>...</th>\n",
       "      <th>Long_</th>\n",
       "      <th>Mortality_Rate</th>\n",
       "      <th>People_Hospitalized</th>\n",
       "      <th>People_Tested</th>\n",
       "      <th>Province_State</th>\n",
       "      <th>Recovered</th>\n",
       "      <th>Testing_Rate</th>\n",
       "      <th>Total_Test_Results</th>\n",
       "      <th>UID</th>\n",
       "      <th>date</th>\n",
       "    </tr>\n",
       "  </thead>\n",
       "  <tbody>\n",
       "    <tr>\n",
       "      <td>0</td>\n",
       "      <td>7005.0</td>\n",
       "      <td>NaN</td>\n",
       "      <td>7440</td>\n",
       "      <td>US</td>\n",
       "      <td>289</td>\n",
       "      <td>1.0</td>\n",
       "      <td>13.819578</td>\n",
       "      <td>USA</td>\n",
       "      <td>155.558973</td>\n",
       "      <td>2020-05-02 02:32:31</td>\n",
       "      <td>...</td>\n",
       "      <td>-86.9023</td>\n",
       "      <td>3.962161</td>\n",
       "      <td>1008.0</td>\n",
       "      <td>91933.0</td>\n",
       "      <td>Alabama</td>\n",
       "      <td>0.0</td>\n",
       "      <td>1960.653006</td>\n",
       "      <td>NaN</td>\n",
       "      <td>84000001.0</td>\n",
       "      <td>2020-05-01</td>\n",
       "    </tr>\n",
       "    <tr>\n",
       "      <td>1</td>\n",
       "      <td>101.0</td>\n",
       "      <td>NaN</td>\n",
       "      <td>364</td>\n",
       "      <td>US</td>\n",
       "      <td>9</td>\n",
       "      <td>2.0</td>\n",
       "      <td>NaN</td>\n",
       "      <td>USA</td>\n",
       "      <td>60.895125</td>\n",
       "      <td>2020-05-02 02:32:31</td>\n",
       "      <td>...</td>\n",
       "      <td>-152.4044</td>\n",
       "      <td>2.472527</td>\n",
       "      <td>NaN</td>\n",
       "      <td>20325.0</td>\n",
       "      <td>Alaska</td>\n",
       "      <td>254.0</td>\n",
       "      <td>3400.256629</td>\n",
       "      <td>NaN</td>\n",
       "      <td>84000002.0</td>\n",
       "      <td>2020-05-01</td>\n",
       "    </tr>\n",
       "    <tr>\n",
       "      <td>3</td>\n",
       "      <td>6111.0</td>\n",
       "      <td>NaN</td>\n",
       "      <td>7969</td>\n",
       "      <td>US</td>\n",
       "      <td>330</td>\n",
       "      <td>4.0</td>\n",
       "      <td>15.095997</td>\n",
       "      <td>USA</td>\n",
       "      <td>109.483581</td>\n",
       "      <td>2020-05-02 02:32:31</td>\n",
       "      <td>...</td>\n",
       "      <td>-111.4312</td>\n",
       "      <td>4.141047</td>\n",
       "      <td>1203.0</td>\n",
       "      <td>74879.0</td>\n",
       "      <td>Arizona</td>\n",
       "      <td>1528.0</td>\n",
       "      <td>1028.738993</td>\n",
       "      <td>NaN</td>\n",
       "      <td>84000004.0</td>\n",
       "      <td>2020-05-01</td>\n",
       "    </tr>\n",
       "    <tr>\n",
       "      <td>4</td>\n",
       "      <td>1300.0</td>\n",
       "      <td>NaN</td>\n",
       "      <td>3337</td>\n",
       "      <td>US</td>\n",
       "      <td>64</td>\n",
       "      <td>5.0</td>\n",
       "      <td>12.406353</td>\n",
       "      <td>USA</td>\n",
       "      <td>128.890120</td>\n",
       "      <td>2020-05-02 02:32:31</td>\n",
       "      <td>...</td>\n",
       "      <td>-92.3731</td>\n",
       "      <td>1.917890</td>\n",
       "      <td>414.0</td>\n",
       "      <td>49676.0</td>\n",
       "      <td>Arkansas</td>\n",
       "      <td>1973.0</td>\n",
       "      <td>1918.713092</td>\n",
       "      <td>NaN</td>\n",
       "      <td>84000005.0</td>\n",
       "      <td>2020-05-01</td>\n",
       "    </tr>\n",
       "    <tr>\n",
       "      <td>5</td>\n",
       "      <td>49900.0</td>\n",
       "      <td>NaN</td>\n",
       "      <td>52026</td>\n",
       "      <td>US</td>\n",
       "      <td>2126</td>\n",
       "      <td>6.0</td>\n",
       "      <td>NaN</td>\n",
       "      <td>USA</td>\n",
       "      <td>132.690209</td>\n",
       "      <td>2020-05-02 02:32:31</td>\n",
       "      <td>...</td>\n",
       "      <td>-119.6816</td>\n",
       "      <td>4.086418</td>\n",
       "      <td>NaN</td>\n",
       "      <td>654985.0</td>\n",
       "      <td>California</td>\n",
       "      <td>0.0</td>\n",
       "      <td>1670.512760</td>\n",
       "      <td>NaN</td>\n",
       "      <td>84000006.0</td>\n",
       "      <td>2020-05-01</td>\n",
       "    </tr>\n",
       "  </tbody>\n",
       "</table>\n",
       "<p>5 rows × 21 columns</p>\n",
       "</div>"
      ],
      "text/plain": [
       "    Active  Case_Fatality_Ratio  Confirmed Country_Region  Deaths  FIPS  \\\n",
       "0   7005.0                  NaN       7440             US     289   1.0   \n",
       "1    101.0                  NaN        364             US       9   2.0   \n",
       "3   6111.0                  NaN       7969             US     330   4.0   \n",
       "4   1300.0                  NaN       3337             US      64   5.0   \n",
       "5  49900.0                  NaN      52026             US    2126   6.0   \n",
       "\n",
       "   Hospitalization_Rate ISO3  Incident_Rate          Last_Update  ...  \\\n",
       "0             13.819578  USA     155.558973  2020-05-02 02:32:31  ...   \n",
       "1                   NaN  USA      60.895125  2020-05-02 02:32:31  ...   \n",
       "3             15.095997  USA     109.483581  2020-05-02 02:32:31  ...   \n",
       "4             12.406353  USA     128.890120  2020-05-02 02:32:31  ...   \n",
       "5                   NaN  USA     132.690209  2020-05-02 02:32:31  ...   \n",
       "\n",
       "      Long_  Mortality_Rate  People_Hospitalized  People_Tested  \\\n",
       "0  -86.9023        3.962161               1008.0        91933.0   \n",
       "1 -152.4044        2.472527                  NaN        20325.0   \n",
       "3 -111.4312        4.141047               1203.0        74879.0   \n",
       "4  -92.3731        1.917890                414.0        49676.0   \n",
       "5 -119.6816        4.086418                  NaN       654985.0   \n",
       "\n",
       "   Province_State Recovered  Testing_Rate  Total_Test_Results         UID  \\\n",
       "0         Alabama       0.0   1960.653006                 NaN  84000001.0   \n",
       "1          Alaska     254.0   3400.256629                 NaN  84000002.0   \n",
       "3         Arizona    1528.0   1028.738993                 NaN  84000004.0   \n",
       "4        Arkansas    1973.0   1918.713092                 NaN  84000005.0   \n",
       "5      California       0.0   1670.512760                 NaN  84000006.0   \n",
       "\n",
       "        date  \n",
       "0 2020-05-01  \n",
       "1 2020-05-01  \n",
       "3 2020-05-01  \n",
       "4 2020-05-01  \n",
       "5 2020-05-01  \n",
       "\n",
       "[5 rows x 21 columns]"
      ]
     },
     "execution_count": 127,
     "metadata": {},
     "output_type": "execute_result"
    }
   ],
   "source": [
    "final_jhu.head()"
   ]
  },
  {
   "cell_type": "code",
   "execution_count": 155,
   "metadata": {},
   "outputs": [],
   "source": [
    "def get_cases(state,date):\n",
    "    df=final_nytimes[final_nytimes.date==date]\n",
    "    \n",
    "    cases=df[df.state==state]\n",
    "    \n",
    "    c=int(cases['cases'])\n",
    "    \n",
    "    return c"
   ]
  },
  {
   "cell_type": "code",
   "execution_count": 156,
   "metadata": {},
   "outputs": [],
   "source": [
    "merged_df=final_jhu.apply(lambda row: get_cases(row['Province_State'], row['date']), axis=1)"
   ]
  },
  {
   "cell_type": "code",
   "execution_count": 159,
   "metadata": {},
   "outputs": [],
   "source": [
    "merged_df=list(merged_df)"
   ]
  },
  {
   "cell_type": "code",
   "execution_count": 161,
   "metadata": {},
   "outputs": [
    {
     "name": "stderr",
     "output_type": "stream",
     "text": [
      "C:\\Users\\hites\\Anaconda3\\lib\\site-packages\\ipykernel_launcher.py:1: SettingWithCopyWarning: \n",
      "A value is trying to be set on a copy of a slice from a DataFrame.\n",
      "Try using .loc[row_indexer,col_indexer] = value instead\n",
      "\n",
      "See the caveats in the documentation: http://pandas.pydata.org/pandas-docs/stable/user_guide/indexing.html#returning-a-view-versus-a-copy\n",
      "  \"\"\"Entry point for launching an IPython kernel.\n"
     ]
    }
   ],
   "source": [
    "final_jhu['ny_times_cases']=merged_df"
   ]
  },
  {
   "cell_type": "code",
   "execution_count": 165,
   "metadata": {},
   "outputs": [
    {
     "name": "stderr",
     "output_type": "stream",
     "text": [
      "C:\\Users\\hites\\Anaconda3\\lib\\site-packages\\ipykernel_launcher.py:1: SettingWithCopyWarning: \n",
      "A value is trying to be set on a copy of a slice from a DataFrame.\n",
      "Try using .loc[row_indexer,col_indexer] = value instead\n",
      "\n",
      "See the caveats in the documentation: http://pandas.pydata.org/pandas-docs/stable/user_guide/indexing.html#returning-a-view-versus-a-copy\n",
      "  \"\"\"Entry point for launching an IPython kernel.\n"
     ]
    }
   ],
   "source": [
    "final_jhu['difference']=final_jhu['Confirmed']-final_jhu['ny_times_cases']"
   ]
  },
  {
   "cell_type": "code",
   "execution_count": 169,
   "metadata": {},
   "outputs": [],
   "source": [
    "average_diff=sum(final_jhu['difference'])/len(final_jhu)"
   ]
  },
  {
   "cell_type": "code",
   "execution_count": 170,
   "metadata": {},
   "outputs": [
    {
     "data": {
      "text/plain": [
       "-132.92124849939975"
      ]
     },
     "execution_count": 170,
     "metadata": {},
     "output_type": "execute_result"
    }
   ],
   "source": [
    "average_diff"
   ]
  },
  {
   "cell_type": "code",
   "execution_count": null,
   "metadata": {},
   "outputs": [],
   "source": []
  }
 ],
 "metadata": {
  "kernelspec": {
   "display_name": "Python 3",
   "language": "python",
   "name": "python3"
  },
  "language_info": {
   "codemirror_mode": {
    "name": "ipython",
    "version": 3
   },
   "file_extension": ".py",
   "mimetype": "text/x-python",
   "name": "python",
   "nbconvert_exporter": "python",
   "pygments_lexer": "ipython3",
   "version": "3.7.4"
  }
 },
 "nbformat": 4,
 "nbformat_minor": 2
}
